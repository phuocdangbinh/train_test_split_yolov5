{
 "cells": [
  {
   "cell_type": "code",
   "execution_count": 24,
   "id": "7ccca9ae",
   "metadata": {},
   "outputs": [],
   "source": [
    "import os\n",
    "import shutil\n",
    "from sklearn.model_selection import train_test_split"
   ]
  },
  {
   "cell_type": "code",
   "execution_count": 29,
   "id": "aa0bc00f",
   "metadata": {},
   "outputs": [],
   "source": [
    "# Read images and annotations\n",
    "images = [os.path.join('images', x) for x in os.listdir('images')]\n",
    "labels = [os.path.join('labels', x) for x in os.listdir('labels') if x[-3:] == \"txt\"]"
   ]
  },
  {
   "cell_type": "code",
   "execution_count": 30,
   "id": "8e839385",
   "metadata": {},
   "outputs": [
    {
     "data": {
      "text/plain": [
       "(150, 150)"
      ]
     },
     "execution_count": 30,
     "metadata": {},
     "output_type": "execute_result"
    }
   ],
   "source": [
    "len(images), len(labels)"
   ]
  },
  {
   "cell_type": "code",
   "execution_count": 28,
   "id": "bed1a259",
   "metadata": {},
   "outputs": [],
   "source": [
    "!mkdir train\\images val\\images test\\images train\\labels val\\labels test\\labels"
   ]
  },
  {
   "cell_type": "code",
   "execution_count": 31,
   "id": "2df8df95",
   "metadata": {},
   "outputs": [],
   "source": [
    "images.sort()\n",
    "labels.sort()"
   ]
  },
  {
   "cell_type": "code",
   "execution_count": 32,
   "id": "7a15a964",
   "metadata": {},
   "outputs": [],
   "source": [
    "train_images, val_images, train_labels, val_labels = train_test_split(images, labels, test_size = 0.2, random_state = 1)\n",
    "val_images, test_images, val_labels, test_labels = train_test_split(val_images, val_labels, test_size = 0.5, random_state = 1)"
   ]
  },
  {
   "cell_type": "code",
   "execution_count": 33,
   "id": "24f3840a",
   "metadata": {},
   "outputs": [],
   "source": [
    "#Utility function to move images \n",
    "def move_files_to_folder(list_of_files, destination_folder):\n",
    "    for file in list_of_files:\n",
    "        try:\n",
    "            shutil.copy(file, destination_folder)\n",
    "        except:\n",
    "            print(file)\n",
    "            assert False"
   ]
  },
  {
   "cell_type": "code",
   "execution_count": 34,
   "id": "1c31893c",
   "metadata": {},
   "outputs": [],
   "source": [
    "# Move the splits into their folders\n",
    "move_files_to_folder(train_images, 'train\\images')\n",
    "move_files_to_folder(val_images, 'val\\images')\n",
    "move_files_to_folder(test_images, 'test\\images')\n",
    "move_files_to_folder(train_labels, 'train\\labels')\n",
    "move_files_to_folder(val_labels, 'val\\labels')\n",
    "move_files_to_folder(test_labels, 'test\\labels')"
   ]
  },
  {
   "cell_type": "code",
   "execution_count": null,
   "id": "455be7fa",
   "metadata": {},
   "outputs": [],
   "source": []
  }
 ],
 "metadata": {
  "kernelspec": {
   "display_name": "Python 3 (ipykernel)",
   "language": "python",
   "name": "python3"
  },
  "language_info": {
   "codemirror_mode": {
    "name": "ipython",
    "version": 3
   },
   "file_extension": ".py",
   "mimetype": "text/x-python",
   "name": "python",
   "nbconvert_exporter": "python",
   "pygments_lexer": "ipython3",
   "version": "3.9.12"
  }
 },
 "nbformat": 4,
 "nbformat_minor": 5
}
